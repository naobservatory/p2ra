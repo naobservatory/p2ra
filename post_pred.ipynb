{
 "cells": [
  {
   "cell_type": "code",
   "execution_count": null,
   "id": "1e98469b-2434-4f5a-b584-d00a1f0ff95f",
   "metadata": {
    "tags": []
   },
   "outputs": [],
   "source": [
    "import pandas as pd\n",
    "import matplotlib.pyplot as plt\n",
    "import numpy as np\n",
    "from scipy.stats import gamma, lognorm\n",
    "import seaborn as sns\n",
    "from datetime import date"
   ]
  },
  {
   "cell_type": "code",
   "execution_count": null,
   "id": "00ab259a-84db-4f6e-a1a2-669bb6b4f919",
   "metadata": {
    "tags": []
   },
   "outputs": [],
   "source": [
    "df = pd.read_table(\n",
    "    \"fits/rothman-sars_cov_2.tsv.gz\", \n",
    "    converters={\"date\": date.fromisoformat},\n",
    "    compression=\"gzip\",\n",
    ")\n",
    "\n",
    "per_draw_df = pd.pivot_table(\n",
    "    df,\n",
    "    index='draws',\n",
    "    values=['phi', 'ra_per_one_percent'],\n",
    ")"
   ]
  },
  {
   "cell_type": "markdown",
   "id": "1bfea256-2436-45d4-917b-a340dee695a2",
   "metadata": {},
   "source": [
    "## Inverse overdispersion, $\\phi$"
   ]
  },
  {
   "cell_type": "code",
   "execution_count": null,
   "id": "bdbe3a94-1e11-41f4-9700-a3ad79c95008",
   "metadata": {
    "tags": []
   },
   "outputs": [],
   "source": [
    "# Prior\n",
    "x = np.linspace(0, 10, 1000)\n",
    "sns.lineplot(\n",
    "    x = x,\n",
    "    y = gamma.pdf(x, 2.0, scale=2.0),\n",
    "    color = \"black\",\n",
    ")\n",
    "\n",
    "# Posterior\n",
    "sns.histplot(\n",
    "    data=per_draw_df,\n",
    "    x=\"phi\",\n",
    "    stat=\"density\",\n",
    "    bins=40,\n",
    ")"
   ]
  },
  {
   "cell_type": "raw",
   "id": "23f5b69f-54a1-49f7-96a3-6e42a6119e89",
   "metadata": {
    "tags": []
   },
   "source": [
    "## Relative abundance per 1% prevalence"
   ]
  },
  {
   "cell_type": "code",
   "execution_count": null,
   "id": "6e6839dd-575d-409b-bbd8-9d06a35bd368",
   "metadata": {
    "tags": []
   },
   "outputs": [],
   "source": [
    "# Prior\n",
    "x = np.linspace(0.5e-7, 3.5e-7, 1000)\n",
    "sns.lineplot(\n",
    "    x = x,\n",
    "    y = lognorm.pdf(x, 10, loc=-3),\n",
    "    color = \"black\",\n",
    ")\n",
    "\n",
    "# Posterior\n",
    "sns.histplot(\n",
    "    data=per_draw_df,\n",
    "    x=\"ra_per_one_percent\",\n",
    "    stat=\"density\",\n",
    ")"
   ]
  },
  {
   "cell_type": "markdown",
   "id": "dced7a3b-2946-413f-833f-a004ab74f558",
   "metadata": {
    "tags": []
   },
   "source": [
    "## Viral reads over time"
   ]
  },
  {
   "cell_type": "code",
   "execution_count": null,
   "id": "cdf24183-4697-4852-9450-02003b450493",
   "metadata": {
    "tags": []
   },
   "outputs": [],
   "source": [
    "def posterior_grid(data, x, y, **kwargs):\n",
    "    g = sns.relplot(\n",
    "        data=data[\n",
    "            (data[\"observation_type\"] == \"posterior\") \n",
    "            & (data[\"draws\"] < 9)\n",
    "        ],\n",
    "        x=x,\n",
    "        y=y,\n",
    "        col='draws',\n",
    "        col_wrap=3,\n",
    "        height=4,\n",
    "        **kwargs,\n",
    "    )\n",
    "    g.set_titles(\"Posterior draw {col_name:1.0f}\")\n",
    "\n",
    "    ax = g.facet_axis(0, 0)\n",
    "    for col in ax.collections:\n",
    "        col.remove()\n",
    "    sns.scatterplot(\n",
    "        data=data[data[\"observation_type\"] == \"data\"],\n",
    "        x=x,\n",
    "        y=y,\n",
    "        ax=ax,\n",
    "        legend=False,\n",
    "        **kwargs,\n",
    "    )\n",
    "    ax.set_title(\"Observed\", fontdict={\"size\": 10})\n",
    "    return g"
   ]
  },
  {
   "cell_type": "code",
   "execution_count": null,
   "id": "9fcfdb95-22eb-4fdf-b605-837ebafa07bd",
   "metadata": {
    "tags": []
   },
   "outputs": [],
   "source": [
    "posterior_grid(df, \"date\", \"viral_reads\", style=\"county\", hue=\"plant\")"
   ]
  },
  {
   "cell_type": "markdown",
   "id": "79bff328-da12-4428-a9e4-59d729c598a7",
   "metadata": {
    "tags": []
   },
   "source": [
    "## Prevalence vs time"
   ]
  },
  {
   "cell_type": "code",
   "execution_count": null,
   "id": "3cb24eee-b18d-4968-aee6-30a114c54721",
   "metadata": {
    "tags": []
   },
   "outputs": [],
   "source": [
    "posterior_grid(df, \"date\", \"prevalence_per100k\", style=\"county\", hue=\"plant\")"
   ]
  },
  {
   "cell_type": "code",
   "execution_count": null,
   "id": "0ab6f1be-bd74-4668-8876-669d3c8921b5",
   "metadata": {
    "tags": []
   },
   "outputs": [],
   "source": [
    "g = posterior_grid(\n",
    "    df,\n",
    "    \"date\",\n",
    "    \"prevalence_per100k\",\n",
    "    style=\"county\",\n",
    "    hue=\"plant\",\n",
    ")\n",
    "g.set(yscale=\"log\")"
   ]
  },
  {
   "cell_type": "markdown",
   "id": "45be4659-e8a9-4302-8ca1-b26d58187554",
   "metadata": {
    "tags": []
   },
   "source": [
    "## Viral reads vs. prevalence"
   ]
  },
  {
   "cell_type": "code",
   "execution_count": null,
   "id": "df42e7f7-6c35-48e2-8c31-a1267601c7c3",
   "metadata": {
    "tags": []
   },
   "outputs": [],
   "source": [
    "posterior_grid(\n",
    "    df,\n",
    "    \"prevalence_per100k\",\n",
    "    \"viral_reads\",\n",
    "    style=\"county\",\n",
    "    hue=\"plant\",\n",
    ")"
   ]
  }
 ],
 "metadata": {
  "kernelspec": {
   "display_name": "Python 3 (ipykernel)",
   "language": "python",
   "name": "python3"
  },
  "language_info": {
   "codemirror_mode": {
    "name": "ipython",
    "version": 3
   },
   "file_extension": ".py",
   "mimetype": "text/x-python",
   "name": "python",
   "nbconvert_exporter": "python",
   "pygments_lexer": "ipython3",
   "version": "3.11.1"
  }
 },
 "nbformat": 4,
 "nbformat_minor": 5
}
